{
 "cells": [
  {
   "cell_type": "code",
   "execution_count": 1,
   "id": "fb82a14f",
   "metadata": {},
   "outputs": [],
   "source": [
    "import sqlite3\n",
    "\n",
    "conn = sqlite3.connect('users.db')\n",
    "c = conn.cursor()\n",
    "\n",
    "# Create table\n",
    "c.execute('''CREATE TABLE users (id INT PRIMARY KEY NOT NULL, name TEXT NOT NULL);''')\n",
    "\n",
    "# Insert sample data\n",
    "c.execute(\"INSERT INTO users (id, name) VALUES (1, 'Alice')\")\n",
    "c.execute(\"INSERT INTO users (id, name) VALUES (2, 'Bob')\")\n",
    "\n",
    "# Save (commit) the changes and close the connection\n",
    "conn.commit()\n",
    "conn.close()"
   ]
  },
  {
   "cell_type": "code",
   "execution_count": null,
   "id": "2dac0357",
   "metadata": {},
   "outputs": [],
   "source": []
  }
 ],
 "metadata": {
  "kernelspec": {
   "display_name": "Python 3 (ipykernel)",
   "language": "python",
   "name": "python3"
  },
  "language_info": {
   "codemirror_mode": {
    "name": "ipython",
    "version": 3
   },
   "file_extension": ".py",
   "mimetype": "text/x-python",
   "name": "python",
   "nbconvert_exporter": "python",
   "pygments_lexer": "ipython3",
   "version": "3.10.9"
  }
 },
 "nbformat": 4,
 "nbformat_minor": 5
}
